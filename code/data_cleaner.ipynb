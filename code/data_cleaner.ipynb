{
 "cells": [
  {
   "cell_type": "code",
   "execution_count": 1,
   "id": "d08503a1",
   "metadata": {},
   "outputs": [],
   "source": [
    "import pandas as pd\n",
    "import os"
   ]
  },
  {
   "cell_type": "code",
   "execution_count": 2,
   "id": "11a00370",
   "metadata": {},
   "outputs": [],
   "source": [
    "IN_FILE_PATH = os.path.join(\"../data\", \"invoices_xl\")\n",
    "OUT_FILE = \"clean_data.csv\"\n",
    "OUT_DIR = os.path.join(\"../data\")\n",
    "OUT_PATH = os.path.join(OUT_DIR, OUT_FILE)"
   ]
  },
  {
   "cell_type": "code",
   "execution_count": 6,
   "id": "244f40bb",
   "metadata": {},
   "outputs": [
    {
     "name": "stderr",
     "output_type": "stream",
     "text": [
      "C:\\Users\\galon\\AppData\\Local\\Packages\\PythonSoftwareFoundation.Python.3.9_qbz5n2kfra8p0\\LocalCache\\local-packages\\Python39\\site-packages\\openpyxl\\worksheet\\header_footer.py:48: UserWarning: Cannot parse header or footer so it will be ignored\n",
      "  warn(\"\"\"Cannot parse header or footer so it will be ignored\"\"\")\n",
      "C:\\Users\\galon\\AppData\\Local\\Packages\\PythonSoftwareFoundation.Python.3.9_qbz5n2kfra8p0\\LocalCache\\local-packages\\Python39\\site-packages\\openpyxl\\worksheet\\header_footer.py:48: UserWarning: Cannot parse header or footer so it will be ignored\n",
      "  warn(\"\"\"Cannot parse header or footer so it will be ignored\"\"\")\n"
     ]
    }
   ],
   "source": [
    "def invoice_to_df(directory):\n",
    "    df = pd.DataFrame()\n",
    "    i = 0\n",
    "    read = True    \n",
    "    for filename in os.listdir(directory):\n",
    "        d = pd.read_excel(os.path.join(directory, filename))       \n",
    "        for index, row in d.iterrows():\n",
    "            if row[1] == \"TOTAL\":\n",
    "                df.loc[i, \"amount\"] = row[2]\n",
    "        df.loc[i, \"name\"]= d.iloc[9][0]\n",
    "        df.loc[i, \"address\"] = d.iloc[10][0]\n",
    "        df.loc[i, \"csz\"] = d.iloc[11][0]\n",
    "        df.loc[i, \"number\"] = d.iloc[12][0]\n",
    "        df.loc[i, \"email\"] = d.iloc[13][0]\n",
    "        df.loc[i, \"date\"] = d.iloc[2][2]\n",
    "        df.loc[i, \"invoice_num\"] = d.iloc[3][2]\n",
    "        i += 1\n",
    "    return df\n",
    "\n",
    "def clean_df(df):\n",
    "    read = True\n",
    "    i = 0\n",
    "    for index, row in df.iterrows():\n",
    "        if read == True:\n",
    "            df.loc[i, \"daily_ct\"] = str(row[7])[0:2]\n",
    "            df.loc[i, \"day\"] = str(row[7])[6:]\n",
    "            df.loc[i, \"month\"] = str(row[7])[4:6]\n",
    "            df.loc[i, \"year\"] = str(row[7])[2:4]\n",
    "            i +=1\n",
    "    return df\n",
    "\n",
    "\n",
    "if __name__ == \"__main__\":\n",
    "    os.makedirs(OUT_DIR, exist_ok=True)\n",
    "    clean_data = invoice_to_df(IN_FILE_PATH)\n",
    "    clean_df = clean_df(clean_data)\n",
    "    clean_df.to_csv(OUT_PATH, index = False)"
   ]
  }
 ],
 "metadata": {
  "kernelspec": {
   "display_name": "Python 3 (ipykernel)",
   "language": "python",
   "name": "python3"
  },
  "language_info": {
   "codemirror_mode": {
    "name": "ipython",
    "version": 3
   },
   "file_extension": ".py",
   "mimetype": "text/x-python",
   "name": "python",
   "nbconvert_exporter": "python",
   "pygments_lexer": "ipython3",
   "version": "3.9.10"
  }
 },
 "nbformat": 4,
 "nbformat_minor": 5
}
