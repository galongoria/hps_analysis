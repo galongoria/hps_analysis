{
 "cells": [
  {
   "cell_type": "code",
   "execution_count": 4,
   "id": "d08503a1",
   "metadata": {},
   "outputs": [],
   "source": [
    "import pandas as pd\n",
    "import os\n",
    "import regex as re\n",
    "\n",
    "RAW_DIR = os.path.join(\"..//data\",\"invoices_csv\")\n",
    "CLEAN_DIR = os.path.join(\"..//data\",\"clean\")"
   ]
  },
  {
   "cell_type": "code",
   "execution_count": 5,
   "id": "ada9160c",
   "metadata": {},
   "outputs": [],
   "source": [
    "def get_dict_list():\n",
    "    \n",
    "    equipment = [\"coil\", \"condenser\", \"furnace\"]\n",
    "    dict_list = []\n",
    "    \n",
    "    for file in os.listdir(RAW_DIR):\n",
    "    \n",
    "        invoice = pd.read_csv(os.path.join(RAW_DIR,file), encoding='cp1252')\n",
    "        invoice_dict = invoice.to_dict('list')\n",
    "\n",
    "        try:\n",
    "            hps_col = invoice_dict[\"Houston Power Savers\"]\n",
    "            inv_col = invoice_dict[\"INVOICE\"]\n",
    "            price_col = invoice_dict[\"Unnamed: 2\"]\n",
    "            total = max(set([float(e) for e in (\" \".join([\"\".join(re.findall(\"[0-9\\.]\",str(p))) for p in price_col[17:]])).split()]))\n",
    "            \n",
    "            for h in range(len(hps_col)):\n",
    "                if inv_col[h] == \"DATE:\":\n",
    "                    date = price_col[h]\n",
    "                if inv_col[h] == \"INVOICE #\":       \n",
    "                    invoice_number = price_col[h]\n",
    "                if inv_col[h] == \"FOR:\":\n",
    "                    reason = price_col[h]\n",
    "                if hps_col[h] == \"DESCRIPTION\":\n",
    "                    items = \" \".join([str(item) for item in hps_col[h:]])\n",
    "\n",
    "            dict_list.append({str(hps_col[9])+\"_\"+str(invoice_number): {\"date\": date,\n",
    "                                              \"reason\": reason,\n",
    "                                              \"items\": items,\n",
    "                                              \"total\": total}})\n",
    "        except:\n",
    "            hps_col = invoice_dict[\"HOUSTON POWER SAVERS\"]\n",
    "            inv_col = invoice_dict[\"Unnamed: 1\"]\n",
    "            price_col = invoice_dict[\"INVOICE\"]\n",
    "            total = max(set([float(e) for e in (\" \".join([\"\".join(re.findall(\"[0-9\\.]\",str(p))) for p in price_col[17:]])).split()]))\n",
    "\n",
    "            \n",
    "            for h in range(len(hps_col)):\n",
    "                if inv_col[h] == \"DATE:\":\n",
    "                    date = price_col[h]\n",
    "                if inv_col[h] == \"INVOICE #\":       \n",
    "                    invoice_number = price_col[h]\n",
    "                if inv_col[h] == \"FOR:\":\n",
    "                    reason = price_col[h]\n",
    "                if hps_col[h] == \"DESCRIPTION\":\n",
    "                    items = \" \".join([str(item) for item in hps_col[h:]])\n",
    "\n",
    "            dict_list.append({str(hps_col[9])+\"_\"+str(invoice_number): {\"date\": date,\n",
    "                                              \"reason\": reason,\n",
    "                                              \"items\": items,\n",
    "                                              \"total\": total}})\n",
    "    return dict_list"
   ]
  },
  {
   "cell_type": "code",
   "execution_count": 65,
   "id": "7ba2facd",
   "metadata": {},
   "outputs": [],
   "source": [
    "def get_installations():\n",
    "    \n",
    "    dict_list = get_dict_list()\n",
    "    full_list = []\n",
    "    cond_coil_list = []\n",
    "    cond_list = []\n",
    "    coil_list = []\n",
    "    furnace_list = []\n",
    "    furnace_coil_list = []\n",
    "    for d in dict_list:\n",
    "        customer = list(d.keys())[0]\n",
    "        \n",
    "        if (d[customer][\"total\"] < 1500) or (d[customer][\"total\"] > 15000):\n",
    "            continue\n",
    "        else:\n",
    "            if \"duct\" in str(d[customer][\"items\"]).lower():\n",
    "                continue\n",
    "            else:\n",
    "                if \"condens\" in str(d[customer][\"items\"]).lower():\n",
    "                    if \"coil\" in str(d[customer][\"items\"]).lower():\n",
    "                        if \"furnace\" in str(d[customer][\"items\"]).lower():\n",
    "                            full_list.append(d)\n",
    "                        else: \n",
    "                            if d[customer][\"total\"] < 3000:\n",
    "                                continue\n",
    "                            else:\n",
    "                                cond_coil_list.append(d)\n",
    "                    else:\n",
    "                        if d[customer][\"total\"] < 2300:\n",
    "                            continue\n",
    "                        else:\n",
    "                            cond_list.append(d)\n",
    "                elif \"coil\" in str(d[customer][\"items\"]).lower():\n",
    "\n",
    "                    if \"furnace\" in str(d[customer][\"items\"]).lower():\n",
    "                        furnace_coil_list.append(d)\n",
    "                    else:\n",
    "                        coil_list.append(d)\n",
    "                elif \"furnace\" in str(d[customer][\"items\"]).lower():\n",
    "                    furnace_list.append(d)\n",
    "                else:\n",
    "                    continue\n",
    "   \n",
    "    return full_list, cond_coil_list, cond_list, coil_list, furnace_list, furnace_coil_list"
   ]
  },
  {
   "cell_type": "code",
   "execution_count": 66,
   "id": "f6ff12cb",
   "metadata": {},
   "outputs": [],
   "source": [
    "def get_average_revenue():\n",
    "    \n",
    "    install_types = get_installations()\n",
    "    type_list = [\"full_system\", \"cond_coil\", \"cond\", \"coil\", \"furnace\", \"furnace_coil\"]\n",
    "    avgs = {t: \"\" for t in type_list}\n",
    "    e = 0\n",
    "    for installation in install_types:\n",
    "        n = 0\n",
    "        for i in range(len(installation)):\n",
    "            customer = list(installation[i].keys())[0]\n",
    "            n += float(installation[i][customer][\"total\"])\n",
    "        avgs[type_list[e]] = n/len(installation)\n",
    "        e +=1\n",
    "    return avgs"
   ]
  },
  {
   "cell_type": "code",
   "execution_count": 67,
   "id": "e37330b4",
   "metadata": {},
   "outputs": [
    {
     "data": {
      "text/plain": [
       "{'full_system': 8018.205,\n",
       " 'cond_coil': 4387.579615384616,\n",
       " 'cond': 3800.1777777777775,\n",
       " 'coil': 2464.3985000000002,\n",
       " 'furnace': 3255.0,\n",
       " 'furnace_coil': 4164.08}"
      ]
     },
     "execution_count": 67,
     "metadata": {},
     "output_type": "execute_result"
    }
   ],
   "source": [
    "get_average_revenue()"
   ]
  },
  {
   "cell_type": "code",
   "execution_count": null,
   "id": "fbb3ce77",
   "metadata": {},
   "outputs": [],
   "source": []
  }
 ],
 "metadata": {
  "kernelspec": {
   "display_name": "Python 3 (ipykernel)",
   "language": "python",
   "name": "python3"
  },
  "language_info": {
   "codemirror_mode": {
    "name": "ipython",
    "version": 3
   },
   "file_extension": ".py",
   "mimetype": "text/x-python",
   "name": "python",
   "nbconvert_exporter": "python",
   "pygments_lexer": "ipython3",
   "version": "3.10.4"
  }
 },
 "nbformat": 4,
 "nbformat_minor": 5
}
