{
 "cells": [
  {
   "cell_type": "code",
   "execution_count": 111,
   "id": "d08503a1",
   "metadata": {},
   "outputs": [],
   "source": [
    "import pandas as pd\n",
    "import os\n",
    "import regex as re\n",
    "\n",
    "RAW_DIR = os.path.join(\"..//data\",\"invoices_csv\")\n",
    "CLEAN_DIR = os.path.join(\"..//data\",\"clean\")"
   ]
  },
  {
   "cell_type": "code",
   "execution_count": 319,
   "id": "ada9160c",
   "metadata": {},
   "outputs": [],
   "source": [
    "def get_dict_list():\n",
    "    \n",
    "    equipment = [\"coil\", \"condenser\", \"furnace\"]\n",
    "    dict_list = []\n",
    "    \n",
    "    for file in os.listdir(RAW_DIR):\n",
    "    \n",
    "        invoice = pd.read_csv(os.path.join(RAW_DIR,file), encoding='cp1252')\n",
    "        invoice_dict = invoice.to_dict('list')\n",
    "\n",
    "        try:\n",
    "            hps_col = invoice_dict[\"Houston Power Savers\"]\n",
    "            inv_col = invoice_dict[\"INVOICE\"]\n",
    "            price_col = invoice_dict[\"Unnamed: 2\"]\n",
    "            total = max(set([float(e) for e in (\" \".join([\"\".join(re.findall(\"[0-9\\.]\",str(p))) for p in price_col[17:]])).split()]))\n",
    "            \n",
    "            for h in range(len(hps_col)):\n",
    "                if inv_col[h] == \"DATE:\":\n",
    "                    date = price_col[h]\n",
    "                if inv_col[h] == \"INVOICE #\":       \n",
    "                    invoice_number = price_col[h]\n",
    "                if inv_col[h] == \"FOR:\":\n",
    "                    reason = price_col[h]\n",
    "                if hps_col[h] == \"DESCRIPTION\":\n",
    "                    items = \" \".join([str(item) for item in hps_col[h:]])\n",
    "\n",
    "            dict_list.append({str(hps_col[9])+\"_\"+str(invoice_number): {\"date\": date,\n",
    "                                              \"reason\": reason,\n",
    "                                              \"items\": items,\n",
    "                                              \"total\": total}})\n",
    "        except:\n",
    "            hps_col = invoice_dict[\"HOUSTON POWER SAVERS\"]\n",
    "            inv_col = invoice_dict[\"Unnamed: 1\"]\n",
    "            price_col = invoice_dict[\"INVOICE\"]\n",
    "            total = max(set([float(e) for e in (\" \".join([\"\".join(re.findall(\"[0-9\\.]\",str(p))) for p in price_col[17:]])).split()]))\n",
    "\n",
    "            \n",
    "            for h in range(len(hps_col)):\n",
    "                if inv_col[h] == \"DATE:\":\n",
    "                    date = price_col[h]\n",
    "                if inv_col[h] == \"INVOICE #\":       \n",
    "                    invoice_number = price_col[h]\n",
    "                if inv_col[h] == \"FOR:\":\n",
    "                    reason = price_col[h]\n",
    "                if hps_col[h] == \"DESCRIPTION\":\n",
    "                    items = \" \".join([str(item) for item in hps_col[h:]])\n",
    "\n",
    "            dict_list.append({str(hps_col[9])+\"_\"+str(invoice_number): {\"date\": date,\n",
    "                                              \"reason\": reason,\n",
    "                                              \"items\": items,\n",
    "                                              \"total\": total}})\n",
    "    return dict_list"
   ]
  },
  {
   "cell_type": "code",
   "execution_count": 334,
   "id": "7ba2facd",
   "metadata": {},
   "outputs": [],
   "source": [
    "def get_installations():\n",
    "    \n",
    "    dict_list = get_dict_list()\n",
    "    full_list = []\n",
    "    cond_coil_list = []\n",
    "    cond_list = []\n",
    "    coil_list = []\n",
    "    furnace_list = []\n",
    "    furnace_coil_list = []\n",
    "    for d in dict_list:\n",
    "        customer = list(d.keys())[0]\n",
    "        \n",
    "        if d[customer][\"total\"] < 1500:\n",
    "            continue\n",
    "        else:\n",
    "        \n",
    "            if \"condens\" in str(d[customer][\"items\"]).lower():\n",
    "                if \"coil\" in str(d[customer][\"items\"]).lower():\n",
    "                    if \"furnace\" in str(d[customer][\"items\"]).lower():\n",
    "                        full_list.append(d)\n",
    "                    else:\n",
    "                        cond_coil_list.append(d)\n",
    "                else:\n",
    "                    cond_list.append(d)\n",
    "            elif \"coil\" in str(d[customer][\"items\"]).lower():\n",
    "\n",
    "                if \"furnace\" in str(d[customer][\"items\"]).lower():\n",
    "                    furnace_coil_list.append(d)\n",
    "                else:\n",
    "                    coil_list.append(d)\n",
    "            else:\n",
    "                furnace_list.append(d)\n",
    "            \n",
    "                    \n",
    "    return full_list, cond_coil_list, cond_list, coil_list, furnace_list, furnace_coil_list\n",
    "        \n",
    "        "
   ]
  },
  {
   "cell_type": "code",
   "execution_count": 335,
   "id": "f6ff12cb",
   "metadata": {},
   "outputs": [],
   "source": [
    "def get_average_revenue():\n",
    "    \n",
    "    n = 0\n",
    "    \n",
    "    install_dict = get_installations()[0]\n",
    "        \n",
    "    for i in range(len(install_dict)):\n",
    "        \n",
    "        customer = list(install_dict[i].keys())[0]\n",
    "        \n",
    "        n += float(install_dict[i][customer][\"total\"])\n",
    "    return n/len(install_dict)\n",
    "        \n"
   ]
  },
  {
   "cell_type": "code",
   "execution_count": 336,
   "id": "e37330b4",
   "metadata": {},
   "outputs": [
    {
     "data": {
      "text/plain": [
       "8193.8375"
      ]
     },
     "execution_count": 336,
     "metadata": {},
     "output_type": "execute_result"
    }
   ],
   "source": [
    "get_average_revenue()"
   ]
  },
  {
   "cell_type": "code",
   "execution_count": null,
   "id": "fbb3ce77",
   "metadata": {},
   "outputs": [],
   "source": []
  }
 ],
 "metadata": {
  "kernelspec": {
   "display_name": "Python 3 (ipykernel)",
   "language": "python",
   "name": "python3"
  },
  "language_info": {
   "codemirror_mode": {
    "name": "ipython",
    "version": 3
   },
   "file_extension": ".py",
   "mimetype": "text/x-python",
   "name": "python",
   "nbconvert_exporter": "python",
   "pygments_lexer": "ipython3",
   "version": "3.10.4"
  }
 },
 "nbformat": 4,
 "nbformat_minor": 5
}
